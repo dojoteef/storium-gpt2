{
 "cells": [
  {
   "cell_type": "markdown",
   "metadata": {},
   "source": [
    "### This notebook is a demonstration of how to use our topic model to:\n",
    "\n",
    "1. Obtain topics\n",
    "2. Visualize topic transition heat maps\n",
    "3. Reproduce topic transition chain/graphs\n",
    "\n"
   ]
  },
  {
   "cell_type": "code",
   "execution_count": 84,
   "metadata": {},
   "outputs": [],
   "source": [
    "# import dependencies\n",
    "import sys\n",
    "\n",
    "import matplotlib\n",
    "import matplotlib.pyplot as plt\n",
    "import random\n",
    "import torch\n",
    "from torch import nn, optim\n",
    "from torch.autograd import Function\n",
    "import numpy as np\n",
    "import os\n",
    "import pickle\n",
    "import data_analysis_utils\n",
    "from data_analysis_utils import (prepare_text_for_lda, read_from_json_export, tokenize_doc_list, build_reduced_glove_dict,\n",
    "convert_token_2_ids, read_from_json_export_by_story, text_to_topic, compute_topic_transition_matrix, filtere_off_unk_topics)\n",
    "from collections import Counter\n",
    "import dae_model\n",
    "from dae_model import DictionaryAutoencoder\n",
    "import time"
   ]
  },
  {
   "cell_type": "markdown",
   "metadata": {},
   "source": [
    "#### GPU required"
   ]
  },
  {
   "cell_type": "code",
   "execution_count": 85,
   "metadata": {},
   "outputs": [],
   "source": [
    "device = 'cuda:0'"
   ]
  },
  {
   "cell_type": "markdown",
   "metadata": {},
   "source": [
    "#### Fix random seed for python, numpy and torch to ensure reproducibility "
   ]
  },
  {
   "cell_type": "code",
   "execution_count": 86,
   "metadata": {},
   "outputs": [
    {
     "data": {
      "text/plain": [
       "<torch._C.Generator at 0x7f575f003c50>"
      ]
     },
     "execution_count": 86,
     "metadata": {},
     "output_type": "execute_result"
    }
   ],
   "source": [
    "random_seed = 42\n",
    "random.seed(random_seed)\n",
    "np.random.seed(random_seed)\n",
    "torch.manual_seed(random_seed)"
   ]
  },
  {
   "cell_type": "markdown",
   "metadata": {},
   "source": [
    "#### Load pretrained topic model and stored storium data"
   ]
  },
  {
   "cell_type": "code",
   "execution_count": 87,
   "metadata": {},
   "outputs": [
    {
     "name": "stdout",
     "output_type": "stream",
     "text": [
      "Finished loading the model and text (from 59 worlds in total)\n"
     ]
    }
   ],
   "source": [
    "final_data_path = './final'\n",
    "\n",
    "\n",
    "\n",
    "# pretrained model (the model is trained on pooled data of entries and challenges)\n",
    "with open(os.path.join(final_data_path, 'model.pt'), 'rb') as f:\n",
    "    model = torch.load(f, map_location=device)  # put the model on specified device\n",
    "model.to(device)  # simply load without parallelism\n",
    "model.device = device\n",
    "model.eval()\n",
    "\n",
    "# read the dictionary of entries and challenges pooled by story and then by worlds\n",
    "with open( os.path.join(final_data_path, 'text_by_world_dict.pkl'), 'rb') as f:\n",
    "    text_by_story_world_dict = pickle.load(f)\n",
    "    \n",
    "\n",
    "# read the saved vocab (word embedding + word2id dict) used by the topic model\n",
    "embedding_matrix_np = np.load(os.path.join(final_data_path, 'embedding_matrix.npy'))\n",
    "with open(os.path.join(final_data_path, 'word2id_dict.pkl'), 'rb') as f:\n",
    "    word2id_dict = pickle.load(f)\n",
    "\n",
    "\n",
    "    \n",
    "# load the previously annotated world labels (and keep track of the unknown topics' id)\n",
    "with open( os.path.join(final_data_path, 'topics_pooled.txt'), 'r') as f:\n",
    "    lines = f.readlines()\n",
    "topics_summarized = []\n",
    "idx_filter_off = []\n",
    "for idx, line in enumerate( lines ):\n",
    "    line_split = line.strip().split(': ')[1]\n",
    "    topics_summarized.append(line_split)\n",
    "    if line_split[:3] == 'unk':\n",
    "        idx_filter_off.append(idx)\n",
    "\n",
    "        \n",
    "# load the previously inferred topic transition matrices in each world\n",
    "config = 'entry_by_character'\n",
    "with open(os.path.join( final_data_path, f'topic_transition_matrix_by_world_dict_{config}.pkl'), 'rb') as f:\n",
    "    topic_transition_matrix_by_world_dict = pickle.load(f)\n",
    "\n",
    "# count the number of stories in each world\n",
    "world_counter = Counter()\n",
    "for world, stories in text_by_story_world_dict.items():\n",
    "    world_counter.update({world: len(stories)})\n",
    "    \n",
    "print(f'Finished loading the model and text (from {len(text_by_story_world_dict)} worlds in total)')\n"
   ]
  },
  {
   "cell_type": "markdown",
   "metadata": {},
   "source": [
    "### Visualize the topics"
   ]
  },
  {
   "cell_type": "code",
   "execution_count": 88,
   "metadata": {},
   "outputs": [
    {
     "name": "stdout",
     "output_type": "stream",
     "text": [
      "topic 0 : savory, garlic, dessert, hummus, pasta, ricotta, yogurt, cheese, salad, sauce\n",
      "topic 1 : infection, toxic, attack, bacteria, killing, kill, mutant, poisoning, deadly, virus\n",
      "topic 2 : stepmother, grandson, niece, sister, wife, father, mother, granddaughter, eldest, daughter\n",
      "topic 3 : teacher, syllabus, coursework, college, graduate, curriculum, school, semester, student, undergraduate\n",
      "topic 4 : olivie, endlos, herzen, soulreaver, pinggiran, executie, ongeval, unknownartist, laprop, ohhhhhhhhhhhhhhhhhhhh\n",
      "topic 5 : grinning, quizzical, questioningly, frown, eyebrow, scowl, shyly, smile, grin, smirk\n",
      "topic 6 : profit, investor, mortgage, timeshare, savings, broker, income, annuity, brokerage, buyer\n",
      "topic 7 : sludge, compost, moisture, chlorine, sanitize, mildew, sewage, disinfect, water, wastewater\n",
      "topic 8 : leather, drawstring, holster, jacket, placket, strap, waistband, collar, zipper, vest\n",
      "topic 9 : supervising, safety, investigation, supervisory, counterintelligence, enforcement, investigative, monitoring, security, surveillance\n",
      "topic 10 : song, rocka, bolero, tune, bass, sound, reverb, cumbia, chorus, sing\n",
      "topic 11 : antiguedad, pudieras, agrado, ordene, inspirador, tebrikler, erden, demorou, cautivo, agradeceria\n",
      "topic 12 : folder, checkbook, stationery, purse, paper, print, clipboard, card, notepad, cards\n",
      "topic 13 : hours, afternoon, midnight, reconvene, 10.30, noon, nap, sleep, evening, night\n",
      "topic 14 : musculoskeletal, renal, diabetes, medication, hypertension, asthma, overdose, cirrhosis, chronic, injury\n",
      "topic 15 : irritability, crampy, fatigue, numbness, tiredness, dizziness, insomnia, abdominal, soreness, nausea\n",
      "topic 16 : unoriginal, grindy, whinier, talentless, unlikable, unlikeable, autotuned, unfunny, unwatchable, hateable\n",
      "topic 17 : outage, 30-minute, rate, average, annum, 15-minute, rainfall, snowfall, refund, weekday\n",
      "topic 18 : clochette, d'ouevres, liferaft, liferafts, lifejacket, lifejackets, vimes, vettriano, kartell, anglepoise\n",
      "topic 19 : troopship, sail, shipwreck, privateer, squadron, frigate, expedition, freighter, voyage, aboard\n",
      "topic 20 : sorcery, knoweth, thine, cometh, shalt, liveth, sorcerer, righteousness, thou, saith\n",
      "topic 21 : email, reply, congratulation, thnks, thanks, congrats, congratulations, thank, thanx, thankyou\n",
      "topic 22 : screech, uppercut, screeching, floor, stairwell, moonsault, turnbuckle, girder, staircase, thud\n",
      "topic 23 : illumination, stroboscopic, xenon, infrared, flashlight, lighting, laser, headlight, plinking, strobe\n",
      "topic 24 : pleeeeeeeeeease, pleaaase, quaere, anyoen, wouldna, didya, enyone, decirme, gwyne, sulotion\n",
      "topic 25 : george, robert, charles, henry, howard, admiral, paul, david, james, william\n",
      "topic 26 : percussionist, brother, composer, pianist, bandmate, eastnor, childhood, musician, pastored, babysat\n",
      "topic 27 : wail, shrill, breathy, audible, gutteral, throaty, hoarse, raspy, voice, guttural\n",
      "topic 28 : combat, commander, marksmanship, melee, defensive, squad, fighter, cavalry, tactical, infantry\n",
      "topic 29 : liaise, thell, trustin, onnnn, arrange, trusteth, togetha, unmold, indwell, devein\n",
      "topic 30 : northward, trailhead, southeasterly, downhill, westbound, switchbacks, northbound, eastbound, uphill, southbound\n",
      "topic 31 : presumption, prejudicial, condone, morally, denigrate, hypocritical, oppose, repudiate, denounce, condemn\n",
      "topic 32 : countryside, village, north, south, coast, people, river, tourist, coastline, coastal\n",
      "topic 33 : suturing, crucifixion, laceration, bandaging, penwork, crucifiction, laparotomy, debridement, tourniquet, amputation\n",
      "topic 34 : situatie, vädret, terjadi, yapıyor, gewenst, idley, l'avez, geographique, tragico, söylüyor\n",
      "topic 35 : ashly, gomez, rachelle, courtney, brittney, katherine, elena, jenifer, candice, cabrera\n",
      "topic 36 : hotkey, subsystem, command, controller, resize, initialize, configure, automatically, synchronize, disable\n",
      "topic 37 : actually, soooo, lately, weird, kinda, think, really, probably, seem, pretty\n",
      "topic 38 : boating, snorkelling, snorkeling, whitewater, archery, scuba, safari, wildlife, skiing, hiking\n",
      "topic 39 : greyish, iridescent, greenish, sapwood, yellowish, vegetation, reddish, whitish, grayish, foliage\n",
      "topic 40 : ordene, faileth, chorten, dolcezza, trodde, uniterested, diggidy, eirene, 01110100, nisab\n",
      "topic 41 : subspecies, marsupial, tapir, rodent, herbivore, herbivorous, fowl, mammal, carnivorous, species\n",
      "topic 42 : horny, teen, glamour, sensual, babe, lingerie, blonde, busty, sexy, brunette\n",
      "topic 43 : clampdown, privateering, bootlegging, franchise, crackdown, profits, blockbuster, nachrichten, kasir, brodi\n",
      "topic 44 : roughly, eight, seven, million, 1,000, nine, trillion, numeral, consecutive, approximately\n",
      "topic 45 : believe, never, universality, certainty, truth, uncreated, finality, indivisible, oneness, believeth\n",
      "topic 46 : police, policeman, crime, contrasty, garish, brutality, gruesome, unflattering, grisly, cop\n",
      "topic 47 : physics, psychology, undergraduate, constructivist, grammar, trigonometry, maths, curriculum, algebra, mathematics\n",
      "topic 48 : sample, summarize, article, details, relevant, factual, query, information, pertinent, findings\n",
      "topic 49 : pedestrianised, arcaded, foyer, 2-story, colonnaded, townhouse, spacious, guesthouse, bedroomed, courtyard\n"
     ]
    }
   ],
   "source": [
    "model.rank_vocab_for_topics(word_embedding_matrix=embedding_matrix_np)"
   ]
  },
  {
   "cell_type": "markdown",
   "metadata": {},
   "source": [
    "### Summarized topics"
   ]
  },
  {
   "cell_type": "code",
   "execution_count": null,
   "metadata": {},
   "outputs": [],
   "source": []
  },
  {
   "cell_type": "markdown",
   "metadata": {},
   "source": [
    "### Visualize the world"
   ]
  },
  {
   "cell_type": "code",
   "execution_count": 89,
   "metadata": {},
   "outputs": [
    {
     "data": {
      "image/png": "[encoded data removed]",
      "text/plain": [
       "<Figure size 432x288 with 1 Axes>"
      ]
     },
     "metadata": {},
     "output_type": "display_data"
    }
   ],
   "source": [
    "labels = []\n",
    "sizes = []\n",
    "size_remaining = 0\n",
    "\n",
    "for idx, world_tuple in enumerate(world_counter.most_common()):\n",
    "    if idx == 0:\n",
    "        continue\n",
    "    if idx <=7:\n",
    "        labels.append(world_tuple[0])\n",
    "        sizes.append(world_tuple[1])\n",
    "    else:\n",
    "        size_remaining += world_tuple[1]\n",
    "labels.append('Others')\n",
    "sizes.append(size_remaining)\n",
    "\n",
    "explode = [0] * len(sizes)\n",
    "explode[0] = 0.1\n",
    "explode[1] = 0.1\n",
    "explode[2] = 0.1\n",
    "\n",
    "fig1, ax1 = plt.subplots()\n",
    "ax1.pie(sizes, explode=explode, labels=labels, autopct='%1.1f%%',\n",
    "        shadow=True, startangle=90)\n",
    "ax1.axis('equal')  # Equal aspect ratio ensures that pie is drawn as a circle.\n",
    "plt.title('Various Universes in Storium')\n",
    "plt.show()"
   ]
  },
  {
   "cell_type": "code",
   "execution_count": 90,
   "metadata": {},
   "outputs": [],
   "source": [
    "#### visualize the topic transition adjacency matrix in each world"
   ]
  },
  {
   "cell_type": "code",
   "execution_count": 91,
   "metadata": {},
   "outputs": [
    {
     "data": {
      "image/png": "[encoded data removed]",
      "text/plain": [
       "<Figure size 432x288 with 1 Axes>"
      ]
     },
     "metadata": {
      "needs_background": "light"
     },
     "output_type": "display_data"
    }
   ],
   "source": [
    "\n",
    "world_name = 'Fantasy Classic'\n",
    "topic_transition_matrix = topic_transition_matrix_by_world_dict[world_name]\n",
    "\n",
    "fig, ax = plt.subplots()\n",
    "im = ax.imshow(topic_transition_matrix)\n",
    "\n",
    "# We want to show all ticks...\n",
    "num_topics = model.K\n",
    "ax.set_xticks(np.arange(num_topics))\n",
    "ax.set_yticks(np.arange(num_topics))\n",
    "\n",
    "# # Rotate the tick labels and set their alignment.\n",
    "plt.setp(ax.get_xticklabels(), rotation=90, ha=\"right\", size=2,\n",
    "             rotation_mode=\"anchor\")\n",
    "\n",
    "\n",
    "ax.set_title(f\"Inter-topic transition in {world_name}\")\n",
    "fig.tight_layout()\n",
    "plt.show()"
   ]
  },
  {
   "cell_type": "code",
   "execution_count": 92,
   "metadata": {},
   "outputs": [],
   "source": [
    "# PLOT_SINGLE_CHAIN = True\n",
    "def plot_single_chain(starting):\n",
    "    starting_topic = topics_summarized[starting]\n",
    "#     if starting_topic[:3]== 'unk':\n",
    "#         continue\n",
    "    print(f'Starting from topic {starting} {topics_summarized[starting]}: ')\n",
    "    for idx, (world_name, _) in enumerate(world_counter.most_common()):\n",
    "        if idx == 0:\n",
    "            continue\n",
    "        topic_transition_matrix = topic_transition_matrix_by_world_dict[world_name]\n",
    "        topic_transition_matrix = filtere_off_unk_topics(topic_transition_matrix, idx_filter_off)\n",
    "\n",
    "\n",
    "        # traverse through topic transition matrix\n",
    "        track = []\n",
    "\n",
    "        next = starting\n",
    "        track.append(next)\n",
    "        while len(track) < 4:\n",
    "            all_candidates = topic_transition_matrix[next]\n",
    "            desc_order = np.argsort(all_candidates)\n",
    "            if next == desc_order[-1]:\n",
    "                next = desc_order[-2]\n",
    "            else:\n",
    "                next = desc_order[-1] # -2 because the highest probability other than the diagonal\n",
    "            track.append(next)\n",
    "\n",
    "        track_str = []\n",
    "        for i in track:\n",
    "            track_str.append(topics_summarized[i])\n",
    "        # print(f'In the world {world_name}, starting from {topics_summarized[starting]}:')\n",
    "        print(f'[{world_name}]: ' + ' --> '.join(track_str))\n",
    "        print()\n",
    "\n",
    "        if idx >= 7:\n",
    "            break\n",
    "            \n",
    "            \n",
    "def plot_divergence(starting):\n",
    "\n",
    "    starting_topic = topics_summarized[starting]\n",
    "\n",
    "    print(f'Starting from topic {starting} {topics_summarized[starting]}: ')\n",
    "    for idx, (world_name, _) in enumerate(world_counter.most_common()):\n",
    "        if idx == 0:\n",
    "            continue\n",
    "        topic_transition_matrix = topic_transition_matrix_by_world_dict[world_name]\n",
    "        topic_transition_matrix = filtere_off_unk_topics(topic_transition_matrix, idx_filter_off)\n",
    "\n",
    "        all_candidates = topic_transition_matrix[starting]\n",
    "        desc_order = np.argsort(all_candidates)\n",
    "\n",
    "        top_3 = desc_order[-3:]\n",
    "\n",
    "        if starting in top_3:\n",
    "            indx_of_starting = np.where( top_3 == starting)[0][0]\n",
    "            top_2 = np.delete(top_3, indx_of_starting)\n",
    "        else:\n",
    "            top_2 = top_3[-2:]\n",
    "\n",
    "        top_2_words = [topics_summarized[i] for i in top_2 ]\n",
    "        top_2_str = ' ' + ' | '.join(top_2_words) + ' '\n",
    "        print(f'[{world_name}]: '+ f' {topics_summarized[starting]} '  + ' --> ' + top_2_str)\n",
    "\n",
    "        if idx >= 7:\n",
    "            break"
   ]
  },
  {
   "cell_type": "markdown",
   "metadata": {},
   "source": [
    "### Looking at single chain transition"
   ]
  },
  {
   "cell_type": "code",
   "execution_count": 93,
   "metadata": {},
   "outputs": [
    {
     "name": "stdout",
     "output_type": "stream",
     "text": [
      "Starting from topic 0 food: \n",
      "[Fantasy Classic]: food --> color in nature/wilderness --> sorcery --> color in nature/wilderness\n",
      "\n",
      "[Urban Fantasy]: food --> sex scenes --> meeting schedule --> food\n",
      "\n",
      "[The Mysterious Island]: food --> color in nature/wilderness --> wail and shrill --> color in nature/wilderness\n",
      "\n",
      "[Space Adventure]: food --> female names --> male names --> mechanical systems\n",
      "\n",
      "[Cyberpunk]: food --> color in nature/wilderness --> mechanical systems --> information\n",
      "\n",
      "[Occult Pulp Horror]: food --> male names --> female names --> male names\n",
      "\n",
      "[Steampunk]: food --> male names --> objection and condemnation --> male names\n",
      "\n"
     ]
    }
   ],
   "source": [
    "# Starting from topic 0 food\n",
    "plot_single_chain(0)"
   ]
  },
  {
   "cell_type": "code",
   "execution_count": 94,
   "metadata": {},
   "outputs": [
    {
     "name": "stdout",
     "output_type": "stream",
     "text": [
      "Starting from topic 1 infection: \n",
      "[Fantasy Classic]: infection --> sorcery --> color in nature/wilderness --> sorcery\n",
      "\n",
      "[Urban Fantasy]: infection --> wail and shrill --> color in nature/wilderness --> information\n",
      "\n",
      "[The Mysterious Island]: infection --> beliefs --> color in nature/wilderness --> wail and shrill\n",
      "\n",
      "[Space Adventure]: infection --> mechanical systems --> male names --> mechanical systems\n",
      "\n",
      "[Cyberpunk]: infection --> information --> male names --> mechanical systems\n",
      "\n",
      "[Occult Pulp Horror]: infection --> information --> male names --> female names\n",
      "\n",
      "[Steampunk]: infection --> mechanical systems --> expedition --> color in nature/wilderness\n",
      "\n"
     ]
    }
   ],
   "source": [
    "# Starting from topic 1 infection: \n",
    "plot_single_chain(1)"
   ]
  },
  {
   "cell_type": "code",
   "execution_count": 95,
   "metadata": {},
   "outputs": [
    {
     "name": "stdout",
     "output_type": "stream",
     "text": [
      "Starting from topic 9 security, surveillance: \n",
      "[Fantasy Classic]: security, surveillance --> color in nature/wilderness --> sorcery --> color in nature/wilderness\n",
      "\n",
      "[Urban Fantasy]: security, surveillance --> information --> objection and condemnation --> information\n",
      "\n",
      "[The Mysterious Island]: security, surveillance --> color in nature/wilderness --> wail and shrill --> color in nature/wilderness\n",
      "\n",
      "[Space Adventure]: security, surveillance --> mechanical systems --> male names --> mechanical systems\n",
      "\n",
      "[Cyberpunk]: security, surveillance --> information --> male names --> mechanical systems\n",
      "\n",
      "[Occult Pulp Horror]: security, surveillance --> wail and shrill --> male names --> female names\n",
      "\n",
      "[Steampunk]: security, surveillance --> mechanical systems --> expedition --> color in nature/wilderness\n",
      "\n"
     ]
    }
   ],
   "source": [
    "#Starting from topic 9 security and surveillance: \n",
    "plot_single_chain(9)"
   ]
  },
  {
   "cell_type": "markdown",
   "metadata": {},
   "source": [
    "### Looking at top 2 topics"
   ]
  },
  {
   "cell_type": "code",
   "execution_count": 99,
   "metadata": {},
   "outputs": [
    {
     "name": "stdout",
     "output_type": "stream",
     "text": [
      "Starting from topic 48 information: \n",
      "[Fantasy Classic]:  information  -->  sorcery | color in nature/wilderness \n",
      "[Urban Fantasy]:  information  -->  female names | objection and condemnation \n",
      "[The Mysterious Island]:  information  -->  village and tourism | color in nature/wilderness \n",
      "[Space Adventure]:  information  -->  male names | mechanical systems \n",
      "[Cyberpunk]:  information  -->  mechanical systems | male names \n",
      "[Occult Pulp Horror]:  information  -->  color in nature/wilderness | male names \n",
      "[Steampunk]:  information  -->  male names | objection and condemnation \n"
     ]
    }
   ],
   "source": [
    "#Starting from topic 48 information:\n",
    "plot_divergence(48)"
   ]
  },
  {
   "cell_type": "code",
   "execution_count": 100,
   "metadata": {},
   "outputs": [
    {
     "name": "stdout",
     "output_type": "stream",
     "text": [
      "Starting from topic 28 combat and war: \n",
      "[Fantasy Classic]:  combat and war  -->  color in nature/wilderness | sorcery \n",
      "[Urban Fantasy]:  combat and war  -->  sorcery | color in nature/wilderness \n",
      "[The Mysterious Island]:  combat and war  -->  expedition | male names \n",
      "[Space Adventure]:  combat and war  -->  male names | mechanical systems \n",
      "[Cyberpunk]:  combat and war  -->  objection and condemnation | mechanical systems \n",
      "[Occult Pulp Horror]:  combat and war  -->  information | color in nature/wilderness \n",
      "[Steampunk]:  combat and war  -->  expedition | mechanical systems \n"
     ]
    }
   ],
   "source": [
    "# Starting from topic 28 combat and war: \n",
    "plot_divergence(28)"
   ]
  },
  {
   "cell_type": "code",
   "execution_count": 103,
   "metadata": {},
   "outputs": [
    {
     "name": "stdout",
     "output_type": "stream",
     "text": [
      "Starting from topic 19 expedition: \n",
      "[Fantasy Classic]:  expedition  -->  sorcery | color in nature/wilderness \n",
      "[Urban Fantasy]:  expedition  -->  female names | color in nature/wilderness \n",
      "[The Mysterious Island]:  expedition  -->  color in nature/wilderness | male names \n",
      "[Space Adventure]:  expedition  -->  color in nature/wilderness | mechanical systems \n",
      "[Cyberpunk]:  expedition  -->  surgery and amputation | male names \n",
      "[Occult Pulp Horror]:  expedition  -->  information | color in nature/wilderness \n",
      "[Steampunk]:  expedition  -->  male names | color in nature/wilderness \n"
     ]
    }
   ],
   "source": [
    "# Starting from topic 19 expedition: \n",
    "plot_divergence(19)"
   ]
  },
  {
   "cell_type": "code",
   "execution_count": null,
   "metadata": {},
   "outputs": [],
   "source": []
  }
 ],
 "metadata": {
  "kernelspec": {
   "display_name": "sto_env",
   "language": "python",
   "name": "sto_env"
  },
  "language_info": {
   "codemirror_mode": {
    "name": "ipython",
    "version": 3
   },
   "file_extension": ".py",
   "mimetype": "text/x-python",
   "name": "python",
   "nbconvert_exporter": "python",
   "pygments_lexer": "ipython3",
   "version": "3.6.10"
  }
 },
 "nbformat": 4,
 "nbformat_minor": 1
}
